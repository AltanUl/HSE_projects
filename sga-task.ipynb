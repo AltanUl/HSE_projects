{
 "cells": [
  {
   "cell_type": "markdown",
   "metadata": {},
   "source": [
    "# User routes on the site\n",
    "## Description\n",
    "**Clickstream** is a sequence of user actions on a website. It allows you to understand how users interact with the site. In this task, you need to find the most frequent custom routes.\n",
    "\n",
    "## Input data\n",
    "Input data is а table with clickstream data in file `hdfs:/data/clickstream.csv`.\n",
    "\n",
    "### Table structure\n",
    "* `user_id (int)` - Unique user identifier.\n",
    "* `session_id (int)` - Unique identifier for the user session. The user's session lasts until the identifier changes.\n",
    "* `event_type (string)` - Event type from the list:\n",
    "    * **page** - visit to the page\n",
    "    * **event** - any action on the page\n",
    "    * <b>&lt;custom&gt;</b> - string with any other type\n",
    "* `event_type (string)` - Page on the site.\n",
    "* `timestamp (int)` - Unix-timestamp of action.\n",
    "\n",
    "### Browser errors\n",
    "Errors can sometimes occur in the user's browser - after such an error appears, we can no longer trust the data of this session and all the following lines after the error or at the same time with it are considered corrupted and **should not be counted** in statistics.\n",
    "\n",
    "When an error occurs on the page, a random string containing the word **error** will be written to the `event_type` field.\n",
    "\n",
    "### Sample of user session\n",
    "<pre>\n",
    "+-------+----------+------------+----------+----------+\n",
    "|user_id|session_id|  event_type|event_page| timestamp|\n",
    "+-------+----------+------------+----------+----------+\n",
    "|    562|       507|        page|      main|1620494781|\n",
    "|    562|       507|       event|      main|1620494788|\n",
    "|    562|       507|       event|      main|1620494798|\n",
    "|    562|       507|        page|    family|1620494820|\n",
    "|    562|       507|       event|    family|1620494828|\n",
    "|    562|       507|        page|      main|1620494848|\n",
    "|    562|       507|wNaxLlerrorU|      main|1620494865|\n",
    "|    562|       507|       event|      main|1620494873|\n",
    "|    562|       507|        page|      news|1620494875|\n",
    "|    562|       507|        page|   tariffs|1620494876|\n",
    "|    562|       507|       event|   tariffs|1620494884|\n",
    "|    562|       514|        page|      main|1620728918|\n",
    "|    562|       514|       event|      main|1620729174|\n",
    "|    562|       514|        page|   archive|1620729674|\n",
    "|    562|       514|        page|     bonus|1620729797|\n",
    "|    562|       514|        page|   tariffs|1620731090|\n",
    "|    562|       514|       event|   tariffs|1620731187|\n",
    "+-------+----------+------------+----------+----------+\n",
    "</pre>\n",
    "\n",
    "#### Correct user routes for a given user:\n",
    "* **Session 507**: main-family-main\n",
    "* **Session 514**: main-archive-bonus-tariffs\n",
    "\n",
    "Route elements are ordered by the time they appear in the clickstream, from earliest to latest.\n",
    "\n",
    "The route must be accounted for completely before the end of the session or an error in the session.\n",
    "\n",
    "## Task\n",
    "You need to use the Spark SQL, Spark RDD and Spark DF interfaces to create a solution file, the lines of which contain **the 30 most frequent user routes** on the site.\n",
    "\n",
    "Each line of the file should contain the `route` and `count` values **separated by tabs**, where:\n",
    "* `route` - route on the site, consisting of pages separated by \"-\".\n",
    "* `count` - the number of user sessions in which this route was.\n",
    "\n",
    "The lines must be **ordered in descending order** of the `count` field.\n",
    "\n",
    "## Criteria\n",
    "You can get maximum of 3.5 points (final grade) for this assignment, depedning on the number of interface you manage to leverage. The criteria are as follows:\n",
    "\n",
    "* 0.5 points – Spark SQL solution with 1 query\n",
    "* 0.5 points – Spark SQL solution with <=2 queries\n",
    "* 0.5 points – Spark RDD solution\n",
    "* 0.5 points – Spark DF solution\n",
    "* 0.5 points – your solution algorithm is relatively optimized, i.e.: no O^2 or O^3 complexities; appropriate object usage; no data leaks etc. This is evaluated by staff.\n",
    "* 1 point – 1 on 1 screening session. During this session staff member can ask you questions regarding your solution logic, framework usage, questionable parts of your code etc. If your code is clean enough, the staff member can just ask you to solve a theoretical problem connected to Spark.\n"
   ]
  },
  {
   "cell_type": "markdown",
   "metadata": {
    "tags": []
   },
   "source": [
    "# -----"
   ]
  },
  {
   "cell_type": "code",
   "execution_count": 1,
   "metadata": {
    "tags": []
   },
   "outputs": [
    {
     "name": "stderr",
     "output_type": "stream",
     "text": [
      "Setting default log level to \"WARN\".\n",
      "To adjust logging level use sc.setLogLevel(newLevel). For SparkR, use setLogLevel(newLevel).\n",
      "2024-01-21 01:28:47,732 WARN yarn.Client: Neither spark.yarn.jars nor spark.yarn.archive is set, falling back to uploading libraries under SPARK_HOME.\n"
     ]
    }
   ],
   "source": [
    "import findspark\n",
    "findspark.init()\n",
    "\n",
    "import pyspark\n",
    "sc = pyspark.SparkContext(appName='jupyter')\n",
    "\n",
    "from pyspark.sql import SparkSession, Row\n",
    "se = SparkSession(sc)"
   ]
  },
  {
   "cell_type": "code",
   "execution_count": 2,
   "metadata": {
    "tags": []
   },
   "outputs": [
    {
     "name": "stderr",
     "output_type": "stream",
     "text": [
      "                                                                                \r"
     ]
    }
   ],
   "source": [
    "clickstream_df = se.read.csv('hdfs:/data/clickstream.csv',  header=True, sep=\"\\t\",  inferSchema=True)\n",
    "clickstream_df.createOrReplaceTempView(\"clickstream\")"
   ]
  },
  {
   "cell_type": "markdown",
   "metadata": {},
   "source": [
    "## Spark SQL Solution"
   ]
  },
  {
   "cell_type": "code",
   "execution_count": 3,
   "metadata": {
    "tags": []
   },
   "outputs": [
    {
     "name": "stderr",
     "output_type": "stream",
     "text": [
      "[Stage 8:=====================================================>   (14 + 1) / 15]\r"
     ]
    },
    {
     "name": "stdout",
     "output_type": "stream",
     "text": [
      "+---------------------+-----+\n",
      "|route                |count|\n",
      "+---------------------+-----+\n",
      "|main                 |8090 |\n",
      "|main-archive         |1095 |\n",
      "|main-rabota          |1039 |\n",
      "|main-internet        |879  |\n",
      "|main-bonus           |865  |\n",
      "|main-news            |760  |\n",
      "|main-tariffs         |669  |\n",
      "|main-online          |584  |\n",
      "|main-vklad           |514  |\n",
      "|main-archive-rabota  |167  |\n",
      "|main-rabota-archive  |167  |\n",
      "|main-bonus-archive   |139  |\n",
      "|main-rabota-bonus    |136  |\n",
      "|main-bonus-rabota    |134  |\n",
      "|main-news-rabota     |134  |\n",
      "|main-archive-internet|131  |\n",
      "|main-rabota-news     |129  |\n",
      "|main-internet-rabota |128  |\n",
      "|main-archive-news    |125  |\n",
      "|main-rabota-internet |123  |\n",
      "|main-internet-archive|123  |\n",
      "|main-archive-bonus   |117  |\n",
      "|main-tariffs-internet|114  |\n",
      "|main-internet-bonus  |114  |\n",
      "|main-news-archive    |112  |\n",
      "|main-news-internet   |108  |\n",
      "|main-archive-tariffs |103  |\n",
      "|main-internet-news   |102  |\n",
      "|main-tariffs-archive |102  |\n",
      "|main-main            |94   |\n",
      "+---------------------+-----+\n",
      "\n"
     ]
    },
    {
     "name": "stderr",
     "output_type": "stream",
     "text": [
      "                                                                                \r"
     ]
    }
   ],
   "source": [
    "query = \"\"\"\n",
    "    WITH base AS (\n",
    "        SELECT *\n",
    "        FROM clickstream\n",
    "        ORDER BY user_id, session_id, timestamp\n",
    "    )\n",
    "\n",
    "    , filtered_sessions AS (\n",
    "        SELECT \n",
    "            *\n",
    "            ,SUM(CASE WHEN event_type LIKE '%error%' THEN 1 ELSE 0 END) OVER (PARTITION BY user_id, session_id ORDER BY timestamp) as error_count\n",
    "        FROM base\n",
    "        WHERE 1=1\n",
    "    )\n",
    "\n",
    "    ,valid_sessions AS (\n",
    "        SELECT\n",
    "            user_id\n",
    "            ,session_id\n",
    "            ,event_page\n",
    "            ,timestamp\n",
    "        FROM filtered_sessions\n",
    "        WHERE 1=1\n",
    "            AND error_count = 0\n",
    "            AND event_type = 'page'\n",
    "    )\n",
    "\n",
    "    ,user_routes AS (\n",
    "        SELECT \n",
    "            user_id\n",
    "            ,session_id\n",
    "            ,CONCAT_WS('-', COLLECT_LIST(event_page) OVER (PARTITION BY user_id, session_id ORDER BY timestamp, event_page ROWS BETWEEN UNBOUNDED PRECEDING AND UNBOUNDED FOLLOWING)) as route\n",
    "        FROM valid_sessions\n",
    "    )\n",
    "\n",
    "    SELECT\n",
    "        route\n",
    "        ,COUNT(*) as count\n",
    "    FROM (SELECT DISTINCT * FROM user_routes)\n",
    "    GROUP BY route\n",
    "    ORDER BY count DESC\n",
    "    LIMIT 30\n",
    "\"\"\"\n",
    "\n",
    "top_routes_sql = se.sql(query)\n",
    "top_routes_sql.show(30, truncate=False)"
   ]
  },
  {
   "cell_type": "markdown",
   "metadata": {},
   "source": [
    "## Spark RDD solution"
   ]
  },
  {
   "cell_type": "code",
   "execution_count": 4,
   "metadata": {
    "tags": []
   },
   "outputs": [
    {
     "name": "stderr",
     "output_type": "stream",
     "text": [
      "[Stage 17:==========================================>             (24 + 2) / 32]\r"
     ]
    },
    {
     "name": "stdout",
     "output_type": "stream",
     "text": [
      "main                     8090\n",
      "main-archive             1095\n",
      "main-rabota              1039\n",
      "main-internet            879\n",
      "main-bonus               865\n",
      "main-news                760\n",
      "main-tariffs             669\n",
      "main-online              584\n",
      "main-vklad               514\n",
      "main-archive-rabota      167\n",
      "main-rabota-archive      167\n",
      "main-bonus-archive       139\n",
      "main-rabota-bonus        136\n",
      "main-news-rabota         134\n",
      "main-bonus-rabota        134\n",
      "main-archive-internet    131\n",
      "main-rabota-news         129\n",
      "main-internet-rabota     128\n",
      "main-archive-news        125\n",
      "main-internet-archive    123\n",
      "main-rabota-internet     123\n",
      "main-archive-bonus       117\n",
      "main-tariffs-internet    114\n",
      "main-internet-bonus      114\n",
      "main-news-archive        112\n",
      "main-news-internet       108\n",
      "main-archive-tariffs     103\n",
      "main-internet-news       102\n",
      "main-tariffs-archive     102\n",
      "main-main                94\n"
     ]
    },
    {
     "name": "stderr",
     "output_type": "stream",
     "text": [
      "                                                                                \r"
     ]
    }
   ],
   "source": [
    "# converting df to RDD\n",
    "clickstream_rdd = clickstream_df.rdd.persist()\n",
    "\n",
    "# finding error sessions\n",
    "error_sessions = (clickstream_rdd\n",
    "                  .filter(lambda row: 'error' in row.event_type.lower())\n",
    "                  .map(lambda row: ((row.user_id, row.session_id), row.timestamp))\n",
    "                  .reduceByKey(lambda x, y: min(x, y)))\n",
    "\n",
    "# keeping only valid sessions\n",
    "valid_sessions = (clickstream_rdd\n",
    "                  .filter(lambda row: row.event_type.lower() == 'page')\n",
    "                  .map(lambda row: ((row.user_id, row.session_id), (row.event_page, row.timestamp)))\n",
    "                  .leftOuterJoin(error_sessions)\n",
    "                  .filter(lambda x: x[1][1] is None or (x[1][0][1] < x[1][1]))\n",
    "                  .map(lambda x: (x[0], x[1][0]))  # Keep only user_id, session_id, event_page, timestamp\n",
    "                  .filter(lambda x: x[1][1] is not None))  # Ensure timestamp is not None\n",
    "\n",
    "user_routes = (valid_sessions.groupByKey().mapValues(lambda x: '-'.join([page for page, timestamp in sorted(x, key=lambda y: (y[1], y[0]))])))\n",
    "\n",
    "route_counts = (user_routes.map(lambda x: (x[1], 1)).reduceByKey(lambda x, y: x + y))\n",
    "\n",
    "top_routes_rdd = route_counts.takeOrdered(30, key=lambda x: -x[1])\n",
    "\n",
    "for route, count in top_routes_rdd:\n",
    "    # just formatting things\n",
    "    print(route, (23 - len(route)) * ' ', count)"
   ]
  },
  {
   "cell_type": "markdown",
   "metadata": {},
   "source": [
    "## Spark DataFrame Solution"
   ]
  },
  {
   "cell_type": "code",
   "execution_count": 5,
   "metadata": {
    "tags": []
   },
   "outputs": [
    {
     "name": "stderr",
     "output_type": "stream",
     "text": [
      "[Stage 24:================================================>       (12 + 2) / 14]\r"
     ]
    },
    {
     "name": "stdout",
     "output_type": "stream",
     "text": [
      "+---------------------+-----+\n",
      "|route                |count|\n",
      "+---------------------+-----+\n",
      "|main                 |8090 |\n",
      "|main-archive         |1095 |\n",
      "|main-rabota          |1039 |\n",
      "|main-internet        |879  |\n",
      "|main-bonus           |865  |\n",
      "|main-news            |760  |\n",
      "|main-tariffs         |669  |\n",
      "|main-online          |584  |\n",
      "|main-vklad           |514  |\n",
      "|main-archive-rabota  |167  |\n",
      "|main-rabota-archive  |167  |\n",
      "|main-bonus-archive   |139  |\n",
      "|main-rabota-bonus    |136  |\n",
      "|main-bonus-rabota    |134  |\n",
      "|main-news-rabota     |134  |\n",
      "|main-archive-internet|131  |\n",
      "|main-rabota-news     |129  |\n",
      "|main-internet-rabota |128  |\n",
      "|main-archive-news    |125  |\n",
      "|main-rabota-internet |123  |\n",
      "|main-internet-archive|123  |\n",
      "|main-archive-bonus   |117  |\n",
      "|main-internet-bonus  |114  |\n",
      "|main-tariffs-internet|114  |\n",
      "|main-news-archive    |112  |\n",
      "|main-news-internet   |108  |\n",
      "|main-archive-tariffs |103  |\n",
      "|main-internet-news   |102  |\n",
      "|main-tariffs-archive |102  |\n",
      "|main-main            |94   |\n",
      "+---------------------+-----+\n",
      "\n"
     ]
    },
    {
     "name": "stderr",
     "output_type": "stream",
     "text": [
      "                                                                                \r"
     ]
    }
   ],
   "source": [
    "from pyspark.sql import functions as F\n",
    "from pyspark.sql.window import Window\n",
    "\n",
    "ordered_clickstream_df = clickstream_df.orderBy(\"user_id\", \"session_id\", \"event_page\", \"timestamp\")\n",
    "\n",
    "# finding error events and filtering them out\n",
    "windowSpec = Window.partitionBy(\"user_id\", \"session_id\").orderBy(\"timestamp\")\n",
    "\n",
    "filtered_sessions_df = ordered_clickstream_df.withColumn(\"error_count\", F.sum(F.when(F.col(\"event_type\").like(\"%error%\"), 1).otherwise(0)).over(windowSpec))\n",
    "\n",
    "valid_sessions_df = filtered_sessions_df.filter((F.col(\"error_count\") == 0) & (F.col(\"event_type\") == \"page\"))\n",
    "\n",
    "user_routes_df = valid_sessions_df.withColumn(\"route\", F.concat_ws('-', F.collect_list(\"event_page\").over(windowSpec.rowsBetween(Window.unboundedPreceding, Window.unboundedFollowing)))).select(\"user_id\", \"session_id\", \"route\")\n",
    "\n",
    "distinct_routes_df = user_routes_df.distinct()\n",
    "\n",
    "top_routes_df = distinct_routes_df.groupBy(\"route\").count().orderBy(F.col(\"count\").desc()).limit(30)\n",
    "\n",
    "top_routes_df.show(30, truncate=False)"
   ]
  },
  {
   "cell_type": "markdown",
   "metadata": {},
   "source": [
    "## Saving outputs"
   ]
  },
  {
   "cell_type": "code",
   "execution_count": 6,
   "metadata": {
    "tags": []
   },
   "outputs": [
    {
     "name": "stderr",
     "output_type": "stream",
     "text": [
      "                                                                                \r"
     ]
    }
   ],
   "source": [
    "# SQL\n",
    "pandas_df_sql = top_routes_sql.toPandas()\n",
    "pandas_df_sql.to_csv('sql_solution.csv', sep='\\t', index=False)\n",
    "\n",
    "# RDD\n",
    "spark_df_rdd = se.createDataFrame(top_routes_rdd, schema=['route', 'count'])\n",
    "pandas_df_rdd = spark_df_rdd.toPandas()\n",
    "pandas_df_rdd.to_csv('rdd_solution.csv', sep='\\t', index=False)\n",
    "\n",
    "# DataFrame\n",
    "pandas_df_df = top_routes_df.toPandas()\n",
    "pandas_df_df.to_csv('df_solution.csv', sep='\\t', index=False)"
   ]
  },
  {
   "cell_type": "code",
   "execution_count": 7,
   "metadata": {
    "tags": []
   },
   "outputs": [],
   "source": [
    "sc.stop()"
   ]
  }
 ],
 "metadata": {
  "coursera": {
   "schema_names": [
    "week-4-spark-homework"
   ]
  },
  "kernelspec": {
   "display_name": "Python 3 (ipykernel)",
   "language": "python",
   "name": "python3"
  },
  "language_info": {
   "codemirror_mode": {
    "name": "ipython",
    "version": 3
   },
   "file_extension": ".py",
   "mimetype": "text/x-python",
   "name": "python",
   "nbconvert_exporter": "python",
   "pygments_lexer": "ipython3",
   "version": "3.10.9"
  },
  "vscode": {
   "interpreter": {
    "hash": "31f2aee4e71d21fbe5cf8b01ff0e069b9275f58929596ceb00d14d90e3e16cd6"
   }
  }
 },
 "nbformat": 4,
 "nbformat_minor": 4
}
